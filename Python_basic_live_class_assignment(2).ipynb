{
  "nbformat": 4,
  "nbformat_minor": 0,
  "metadata": {
    "colab": {
      "provenance": [],
      "collapsed_sections": []
    },
    "kernelspec": {
      "name": "python3",
      "display_name": "Python 3"
    },
    "language_info": {
      "name": "python"
    }
  },
  "cells": [
    {
      "cell_type": "markdown",
      "source": [
        "1. What is indentation error? Why indentation is important? Give one simple example?"
      ],
      "metadata": {
        "id": "lwCaA7Wh9Omz"
      }
    },
    {
      "cell_type": "markdown",
      "source": [
        "ANS: The indentation error can occur when the spaces or tabs are not placed properly. There will not be an issue if the interpreter does not find any issues with the spaces or tabs. If there is an error due to indentation, it will come in between the execution and can be a show stopper.\n",
        "EXAMPLE: "
      ],
      "metadata": {
        "id": "dbXA7CvE9P0o"
      }
    },
    {
      "cell_type": "code",
      "source": [
        "raining = True\n",
        "if raining:\n",
        "print(\"It is raining\")\n",
        "else:\n",
        "print(\"Not raining\")\n",
        "#this will give an indentation error as it doesn't have a tab space before the print statement after the if block."
      ],
      "metadata": {
        "colab": {
          "base_uri": "https://localhost:8080/",
          "height": 131
        },
        "id": "mQ93t7ZD9VBT",
        "outputId": "3259a4f9-edc0-4809-b3ab-824295ed611f"
      },
      "execution_count": 3,
      "outputs": [
        {
          "output_type": "error",
          "ename": "IndentationError",
          "evalue": "ignored",
          "traceback": [
            "\u001b[0;36m  File \u001b[0;32m\"<ipython-input-3-71f71d8a68fb>\"\u001b[0;36m, line \u001b[0;32m3\u001b[0m\n\u001b[0;31m    print(\"It is raining\")\u001b[0m\n\u001b[0m        ^\u001b[0m\n\u001b[0;31mIndentationError\u001b[0m\u001b[0;31m:\u001b[0m expected an indented block\n"
          ]
        }
      ]
    },
    {
      "cell_type": "markdown",
      "source": [
        "2. Correct the following code and write the comment where you made the correction?\n",
        "\n",
        "  ```python\n",
        "  class_started = bool(input(\"Hey friend, is class started?: [0-False/1-True]\"))\n",
        "\n",
        "  if class_started:\n",
        "      print(\"Since class started...\")\n",
        "      print(\"Lets concentrate\")\n",
        "  else:\n",
        "      print(\"Since class is not started...\")\n",
        "      print(\"let's revise\")    \n",
        "  ```\n",
        "\n",
        "  **HINT:** Refer your data type conversion class"
      ],
      "metadata": {
        "id": "RHqOiwwy-QAi"
      }
    },
    {
      "cell_type": "code",
      "source": [
        "class_started = bool(input(\"Hey friend, is class started?: [0-False/1-True] \"))\n",
        "class_started = False\n",
        "if class_started == True :\n",
        "   print(\"Since class started...\")\n",
        "   print(\"Lets concentrate\")\n",
        "else:\n",
        "   print(\"Since class is not started...\")\n",
        "   print(\"let's revise\")  "
      ],
      "metadata": {
        "colab": {
          "base_uri": "https://localhost:8080/"
        },
        "id": "ASf67xzx-ULi",
        "outputId": "295d0378-78cd-439a-9574-4c5d00c896b5"
      },
      "execution_count": 32,
      "outputs": [
        {
          "output_type": "stream",
          "name": "stdout",
          "text": [
            "Hey friend, is class started?: [0-False/1-True] 0\n",
            "Since class is not started...\n",
            "let's revise\n"
          ]
        }
      ]
    },
    {
      "cell_type": "markdown",
      "source": [
        "3. Use if else condition to verify that dataype of `input()` method in python is always string."
      ],
      "metadata": {
        "id": "NIaC-hIW-pja"
      }
    },
    {
      "cell_type": "code",
      "source": [
        "d= input(\"Enter something : \")\n",
        "if type(d) == str:\n",
        "  print(\"The datatype of input() is string\")\n",
        "else:\n",
        "  print(\"The datatype of input() is not string\")"
      ],
      "metadata": {
        "colab": {
          "base_uri": "https://localhost:8080/"
        },
        "id": "hWRU6DPP-q1w",
        "outputId": "99640cb5-1373-4f29-ec85-41a8dbdd4109"
      },
      "execution_count": 9,
      "outputs": [
        {
          "output_type": "stream",
          "name": "stdout",
          "text": [
            "Enter something : 543\n",
            "The datatype of input() is string\n"
          ]
        }
      ]
    },
    {
      "cell_type": "markdown",
      "source": [
        "4. Take 3 variables and assign integer values to them. Find the largest variable, by only using the if and else conditions."
      ],
      "metadata": {
        "id": "XnVqfpLL_Bhj"
      }
    },
    {
      "cell_type": "code",
      "source": [
        "a = int(input(\" Enter a number \"))\n",
        "b = int(input(\" Enter a number \"))\n",
        "c = int(input(\" Enter a number \"))\n",
        "if a>b and a>c:\n",
        "  print(\"a is the largest\")\n",
        "elif b>a and b>c:\n",
        "  print(\"b is the largest\")\n",
        "else:\n",
        "  print(\"c is the largest\")"
      ],
      "metadata": {
        "colab": {
          "base_uri": "https://localhost:8080/"
        },
        "id": "wPswtusI_Cim",
        "outputId": "d7d87e7b-f667-420f-a7d5-ec28a82f9a91"
      },
      "execution_count": 7,
      "outputs": [
        {
          "output_type": "stream",
          "name": "stdout",
          "text": [
            " Enter a number 198\n",
            " Enter a number 099\n",
            " Enter a number 087\n",
            "a is the largest\n"
          ]
        }
      ]
    },
    {
      "cell_type": "markdown",
      "source": [
        "5. What would be the solution?\n",
        "    1. True\n",
        "    2. False\n",
        "\n",
        "    ```python\n",
        "    a = 6\n",
        "    b = 10\n",
        "    print( not ( not a == 10 or not b == 10) )\n",
        "    ```"
      ],
      "metadata": {
        "id": "opsCZdixAdrF"
      }
    },
    {
      "cell_type": "code",
      "source": [
        "a = 6\n",
        "b = 10\n",
        "print( not ( not a == 10 or not b == 10) )\n",
        "#The output of this statement is FALSE"
      ],
      "metadata": {
        "colab": {
          "base_uri": "https://localhost:8080/"
        },
        "id": "cR5XMMPAAjJl",
        "outputId": "6f1c765b-4e3d-4688-a002-adeb07e594bf"
      },
      "execution_count": 10,
      "outputs": [
        {
          "output_type": "stream",
          "name": "stdout",
          "text": [
            "False\n"
          ]
        }
      ]
    },
    {
      "cell_type": "markdown",
      "source": [
        "6. Find the answer as well as find out the reason behind the result? -\n",
        "    - case 1:\n",
        "        ```python\n",
        "        A = 5.0\n",
        "        B = 10/2\n",
        "        print(A is B)\n",
        "        ```\n",
        "    - case 2:\n",
        "        ```python\n",
        "        A = 5.0\n",
        "        B = int(10/2)\n",
        "        print(A is B)\n",
        "        ```\n",
        "    - case 3:\n",
        "        ```python\n",
        "        A = 5.0\n",
        "        B = float(10/2)\n",
        "        print(A is B)\n",
        "        ```"
      ],
      "metadata": {
        "id": "4Yl_KEA4AuQ3"
      }
    },
    {
      "cell_type": "code",
      "source": [
        "  A = 5.0\n",
        "  B = 10/2\n",
        "  print(A is B)\n",
        "  # The output is false as the memory allocated to both a and b are different. is operator checks whether the variables are allocated to the same memory."
      ],
      "metadata": {
        "colab": {
          "base_uri": "https://localhost:8080/"
        },
        "id": "hgE1rn21A8JA",
        "outputId": "9a862117-0110-4967-b8f7-481587f44879"
      },
      "execution_count": 12,
      "outputs": [
        {
          "output_type": "stream",
          "name": "stdout",
          "text": [
            "False\n"
          ]
        }
      ]
    },
    {
      "cell_type": "code",
      "source": [
        "A = 5.0\n",
        "B = int(10/2)\n",
        "print(A is B)\n",
        "# The output is false as the memory allocated to both a and b are different"
      ],
      "metadata": {
        "colab": {
          "base_uri": "https://localhost:8080/"
        },
        "id": "kHehq9jIBSfl",
        "outputId": "0bff0cd7-a484-4a02-f0c0-0e1851e04c35"
      },
      "execution_count": 16,
      "outputs": [
        {
          "output_type": "stream",
          "name": "stdout",
          "text": [
            "False\n"
          ]
        }
      ]
    },
    {
      "cell_type": "code",
      "source": [
        "A = 5.0\n",
        "B = float(10/2)\n",
        "print(A is B)\n",
        "# The output is false as the memory allocated to both a and b are different"
      ],
      "metadata": {
        "colab": {
          "base_uri": "https://localhost:8080/"
        },
        "id": "LvDNByBkB1Sl",
        "outputId": "b8db4d60-8feb-456d-8dfb-d47574f62ce4"
      },
      "execution_count": 17,
      "outputs": [
        {
          "output_type": "stream",
          "name": "stdout",
          "text": [
            "False\n"
          ]
        }
      ]
    },
    {
      "cell_type": "markdown",
      "source": [
        "### Try to understand the following examples and answer the question based on it - \n",
        "    \n",
        "**Arithmatic Operators**\n",
        "\n",
        "|Operation|Meaning|\n",
        "|:-:|:-:|\n",
        "| **+** |addition|\n",
        "| **-** |subtraction|\n",
        "| **\\*** |multiplication|\n",
        "| **/** |true division|\n",
        "| **//** |integer division|\n",
        "| **%** |the modulo operator|\n",
        "\n",
        "\n",
        "Here `+`, `-`, `*`, `/` are regular arithmatic operators. Lets look at the `//` and `%` operators\n",
        "\n",
        "Usecase or examples - \n",
        "    \n",
        "```python\n",
        "var_a = 5\n",
        "var_b = 25\n",
        "integer_division = var_b // var_a\n",
        "print(f\"integer division: {var_b}/{var_a}={integer_division}\")\n",
        "```\n",
        "\n",
        "OUTPUT: integer division: 25/5=5\n",
        "\n",
        "```python\n",
        "var_a = 3\n",
        "var_b = 25\n",
        "integer_division = var_b // var_a\n",
        "print(f\"integer division: {var_b}/{var_a}={integer_division}\")\n",
        "```\n",
        "\n",
        "OUTPUT: integer division: 25/3=8\n",
        "\n",
        "```python\n",
        "var_a = 5\n",
        "var_b = 25\n",
        "remainder = var_b % var_a\n",
        "print(f\"remainder: {var_b}/{var_a} is {remainder}\")\n",
        "```\n",
        "\n",
        "OUTPUT: remainder: 25/5 is 0\n",
        "\n",
        "```python\n",
        "var_a = 3\n",
        "var_b = 25\n",
        "remainder = var_b % var_a\n",
        "print(f\"remainder: {var_b}/{var_a} is {remainder}\")\n",
        "```\n",
        "\n",
        "OUTPUT: remainder: 25/3 is 1\n",
        "\n"
      ],
      "metadata": {
        "id": "Fo2P21MCC1YT"
      }
    },
    {
      "cell_type": "markdown",
      "source": [
        "7. Write a program that asks the user to enter a number. You should print out a message to the user, either “That number is divisible by either 3 or 5”, or “That number is not divisible by either 3 or 5”. Be sure to consider the data type of the input you are taking in from the user. Use a single if/else block to solve this problem."
      ],
      "metadata": {
        "id": "fU13F1nKC7mC"
      }
    },
    {
      "cell_type": "code",
      "source": [
        "num = int(input(\"Enter a number : \"))\n",
        "if num % 3 or num % 5:\n",
        "  print(\"That number is divisible be either 3 or 5\")\n",
        "else:\n",
        "  print(\"That number is not divisible by either 3 or 5\")"
      ],
      "metadata": {
        "colab": {
          "base_uri": "https://localhost:8080/"
        },
        "id": "Ls-vs7IYDASj",
        "outputId": "83707c25-0665-4c26-e7d7-a6ba4e6c00dc"
      },
      "execution_count": 19,
      "outputs": [
        {
          "output_type": "stream",
          "name": "stdout",
          "text": [
            "Enter a number : 48\n",
            "That number is divisible be either 3 or 5\n"
          ]
        }
      ]
    },
    {
      "cell_type": "markdown",
      "source": [
        "8. Take user input for length and width. Then calculate the area of rectangle. Also print as per length and width whether its a square of rectangle.\n"
      ],
      "metadata": {
        "id": "pDrUoy9zDnXU"
      }
    },
    {
      "cell_type": "code",
      "source": [
        "length = float(input(\"Enter the length: \"))\n",
        "width = float(input(\"Enter the width: \"))\n",
        "area = length * width\n",
        "print(f\"The area is : {area}\")\n",
        "if length == width:\n",
        "  print(\"The figure is a square\")\n",
        "else:\n",
        "  print(\"The figure is a rectangle\")"
      ],
      "metadata": {
        "colab": {
          "base_uri": "https://localhost:8080/"
        },
        "id": "kvl04SW9Dpxd",
        "outputId": "ee876fa4-0982-4ee0-d34c-bd0609268642"
      },
      "execution_count": 23,
      "outputs": [
        {
          "output_type": "stream",
          "name": "stdout",
          "text": [
            "Enter the length: 8\n",
            "Enter the width: 8\n",
            "The area is : 64.0\n",
            "The figure is a square\n"
          ]
        }
      ]
    },
    {
      "cell_type": "markdown",
      "source": [
        "9. Take two variable radius_1 and radius_2 and calculate the area of circle_1 and circle_2. Also print which circle has large area. If area is equal then print area is equal.\n"
      ],
      "metadata": {
        "id": "4bKIEbWLEfY4"
      }
    },
    {
      "cell_type": "code",
      "source": [
        "radius_1 = float(input(\"Enter the radius: \"))\n",
        "radius_2 = float(input(\"Enter the radius: \"))\n",
        "area_1= 3.14*radius_1*radius_1\n",
        "area_2= 3.14*radius_2*radius_2\n",
        "print(f\"The area of first circle is:{area_1}\")\n",
        "print(f\"The area of second circle is:{area_2}\")\n",
        "if area_1 > area_2:\n",
        "  print(\"The circle 1 has larger area\")\n",
        "elif area_1 < area_2:\n",
        "  print(\"The circle 2 has larger area\")\n",
        "else:\n",
        "  print(\"The circle has equal area\")"
      ],
      "metadata": {
        "colab": {
          "base_uri": "https://localhost:8080/"
        },
        "id": "OM0u6gBqEiJ0",
        "outputId": "2fb96fef-df82-4738-c0a0-c2ed63b1743b"
      },
      "execution_count": 25,
      "outputs": [
        {
          "output_type": "stream",
          "name": "stdout",
          "text": [
            "Enter the radius: 5\n",
            "Enter the radius: 10\n",
            "The area of first circle is:78.5\n",
            "The area of second circle is:314.0\n",
            "The circle 2 has larger area\n"
          ]
        }
      ]
    },
    {
      "cell_type": "markdown",
      "source": [
        "10. Check whether a year is leap year or not. Use nested if...else to solve this problem. A leap year is exactly divisible by 4 except for century years (years ending with 00). The century year is a leap year only if it is perfectly divisible by 400."
      ],
      "metadata": {
        "id": "NWj21QozF3ZA"
      }
    },
    {
      "cell_type": "code",
      "source": [
        "year = int(input(\"Enter the year \"))\n",
        "if (year % 400 == 0) and (year % 100 ==0):\n",
        "  print(f\"{year} is a leap year\")\n",
        "elif (year % 4 == 0) and (year % 100 !=0):\n",
        "  print(f\"{year} is a leap year\")\n",
        "else:\n",
        "  print(f\"{year} is not a leap year\")"
      ],
      "metadata": {
        "colab": {
          "base_uri": "https://localhost:8080/"
        },
        "id": "g7IoOxCsF5_V",
        "outputId": "43ff7489-71bb-4b41-d394-7be33219c62d"
      },
      "execution_count": 30,
      "outputs": [
        {
          "output_type": "stream",
          "name": "stdout",
          "text": [
            "Enter the year 2100\n",
            "2100 is not a leap year\n"
          ]
        }
      ]
    }
  ]
}