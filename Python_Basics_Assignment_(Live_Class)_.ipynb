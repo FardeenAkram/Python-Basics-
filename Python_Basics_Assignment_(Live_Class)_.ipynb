{
  "nbformat": 4,
  "nbformat_minor": 0,
  "metadata": {
    "colab": {
      "provenance": [],
      "collapsed_sections": []
    },
    "kernelspec": {
      "name": "python3",
      "display_name": "Python 3"
    },
    "language_info": {
      "name": "python"
    }
  },
  "cells": [
    {
      "cell_type": "markdown",
      "source": [
        "Q1. Find out all the types of errors we have encountered and why?"
      ],
      "metadata": {
        "id": "sEb09mkJKyRX"
      }
    },
    {
      "cell_type": "markdown",
      "source": [
        "1. print and Print are different. Print is not defined because Print is a variable and print is a function which prints a statement. \n",
        "2. Missing paranthesis in print\n",
        "3. Syntax error : EOL while scanning string literal means the line did not end properly\n",
        "4. Value error: means that the value cannot be changed into a particular datatype or the value cannot be stored in a particular datatype. Not a valid type conversion.\n",
        "5. Syntax error/invalid syntax: means there is some syntactical error or something is wrong with your code\n",
        "6. Type error: when the datatype does not support certain function or maybe the type is not correctly assigned  "
      ],
      "metadata": {
        "id": "5cnXFGUXK7T6"
      }
    },
    {
      "cell_type": "markdown",
      "source": [
        "Q2. Take input A and B  and print their sum , mul, div, square of the nos"
      ],
      "metadata": {
        "id": "qx9_jXUd8f3k"
      }
    },
    {
      "cell_type": "code",
      "source": [
        "A = int(input (\"Enter a number \"))\n",
        "B=int(input (\"Enter a number \"))\n",
        "sum= A+B\n",
        "product= A*B\n",
        "div= A/B\n",
        "square_A=A**2\n",
        "square_B=B**2\n",
        "print(f\"The sum of A and B is {sum}\")\n",
        "print(f\"The product of A and B is {product}\")\n",
        "print(f\"The division of A and B is {div}\")\n",
        "print(f\"The square of A is {square_A}\")\n",
        "print(f\"The square of B is {square_B}\")"
      ],
      "metadata": {
        "colab": {
          "base_uri": "https://localhost:8080/"
        },
        "id": "tPbo8InO8wSO",
        "outputId": "e2b7da23-38a4-4460-dc7e-fb352c2eae23"
      },
      "execution_count": 1,
      "outputs": [
        {
          "output_type": "stream",
          "name": "stdout",
          "text": [
            "Enter a number 23\n",
            "Enter a number 34\n",
            "The sum of A and B is 57\n",
            "The product of A and B is 782\n",
            "The division of A and B is 0.6764705882352942\n",
            "The square of A is 529\n",
            "The square of B is 1156\n"
          ]
        }
      ]
    },
    {
      "cell_type": "markdown",
      "source": [
        "  Q3.How many reserve words are there in python and why we should not use them as a variable?\n",
        "\n",
        "  ANS: Python 3 has 33 reserve keywords.These are False, None, True, and , as , assert, break, class, continue, def, del, elif, else, except, finally, for, from, global, if, import, in, is, lambda, nonlocal, not,or, pass, raise, return, try, while, yield and with. \n",
        "\n",
        "  We should not use reserve keywords as variables in python because they have special meaning and are used for special purposes. Keywords are reserved words which are used to perform certain operations in python. For example lets understand with an example of a code: \n"
      ],
      "metadata": {
        "id": "I2sBA3Aq-S7n"
      }
    },
    {
      "cell_type": "code",
      "source": [
        "for = 2"
      ],
      "metadata": {
        "colab": {
          "base_uri": "https://localhost:8080/",
          "height": 131
        },
        "id": "fKACC1zJ_zZ6",
        "outputId": "bd34c73c-69df-46aa-f68e-fca25101c421"
      },
      "execution_count": 3,
      "outputs": [
        {
          "output_type": "error",
          "ename": "SyntaxError",
          "evalue": "ignored",
          "traceback": [
            "\u001b[0;36m  File \u001b[0;32m\"<ipython-input-3-81f260bd2c61>\"\u001b[0;36m, line \u001b[0;32m1\u001b[0m\n\u001b[0;31m    for = 2\u001b[0m\n\u001b[0m        ^\u001b[0m\n\u001b[0;31mSyntaxError\u001b[0m\u001b[0;31m:\u001b[0m invalid syntax\n"
          ]
        }
      ]
    },
    {
      "cell_type": "markdown",
      "source": [
        "If we try to execute the print = 2 statement and print something it will give a Type Error as we have initialised print as an integer earlier and hence the print function which has been specifically designed to print any statement is unable to perform the given statement.\n",
        "\n",
        "Another example is for =2. We wont be able to initialise for as an int as it is an invalid syntax."
      ],
      "metadata": {
        "id": "CumcoQRn_-Lt"
      }
    },
    {
      "cell_type": "markdown",
      "source": [
        "Q4. Create an email IDs with the user inputs in the following format:\n",
        "lastname.firstname@gmail.com"
      ],
      "metadata": {
        "id": "clJ4u6m1AOy6"
      }
    },
    {
      "cell_type": "code",
      "source": [
        "first_name= input(\"Enter the first name : \")\n",
        "last_name= input(\"Enter the last name : \")\n",
        "email_id= print(f\"The email id is {last_name}.{first_name}@gmail.com\")"
      ],
      "metadata": {
        "colab": {
          "base_uri": "https://localhost:8080/"
        },
        "id": "BjFo2zQIA2oX",
        "outputId": "94fdcc7d-f560-4986-da07-eea624c25410"
      },
      "execution_count": 5,
      "outputs": [
        {
          "output_type": "stream",
          "name": "stdout",
          "text": [
            "Enter the first name : fardeen\n",
            "Enter the last name : akram\n",
            "The email id is akram.fardeen@gmail.com\n"
          ]
        }
      ]
    },
    {
      "cell_type": "markdown",
      "source": [
        "Q5. Try to print the following lines:\n",
        "Hi. I'm sunny. \n",
        "My address is 22/3.\n",
        "I earn 20$ daily."
      ],
      "metadata": {
        "id": "UorE5lwMB6id"
      }
    },
    {
      "cell_type": "code",
      "source": [
        "print(\"\"\"\n",
        "Hi. I'm sunny.\n",
        "My address is 22/3. \n",
        "I earn 20$ daily.\n",
        "\"\"\")"
      ],
      "metadata": {
        "colab": {
          "base_uri": "https://localhost:8080/"
        },
        "id": "_UR9fgGECKVi",
        "outputId": "0658af53-f52d-47a7-8ebc-2d0868122ec8"
      },
      "execution_count": 6,
      "outputs": [
        {
          "output_type": "stream",
          "name": "stdout",
          "text": [
            "\n",
            "Hi. I'm sunny.\n",
            "My address is 22/3. \n",
            "I earn 20$ daily.\n",
            "\n"
          ]
        }
      ]
    },
    {
      "cell_type": "markdown",
      "source": [
        "Q6. Take user input (name, address, dob, etc) to fill a form for your college and print their email ids.\n",
        "\n"
      ],
      "metadata": {
        "id": "26RDxbrKDKXI"
      }
    },
    {
      "cell_type": "code",
      "source": [
        "name= input(\"Enter the name : \")\n",
        "address= input(\"Enter the address : \")\n",
        "dob= input(\"Enter the date of birth : \")\n",
        "print(f\"The email id is: {name}.{address}.{dob}@gmail.com\")"
      ],
      "metadata": {
        "colab": {
          "base_uri": "https://localhost:8080/"
        },
        "id": "NYL1DiF8DX0k",
        "outputId": "2e917875-c87a-4f28-e95f-b537e739e7f2"
      },
      "execution_count": 8,
      "outputs": [
        {
          "output_type": "stream",
          "name": "stdout",
          "text": [
            "Enter the name : fardeen\n",
            "Enter the address : kolkata\n",
            "Enter the date of birth : 16101998\n",
            "The email id is: fardeen.kolkata.16101998@gmail.com\n"
          ]
        }
      ]
    },
    {
      "cell_type": "markdown",
      "source": [
        "Q7. Convert the following \n",
        "1. \"22.4\" into int\n",
        "2. \"22\" into complex"
      ],
      "metadata": {
        "id": "w-tpw2J7GHuX"
      }
    },
    {
      "cell_type": "code",
      "source": [
        "#for converting string float into int we need to first convert into float then int.\n",
        "float(\"22.4\")"
      ],
      "metadata": {
        "colab": {
          "base_uri": "https://localhost:8080/"
        },
        "id": "DvAH3XedGaxF",
        "outputId": "e9b2f9b8-4165-4b18-bbfc-61695a1322f9"
      },
      "execution_count": 9,
      "outputs": [
        {
          "output_type": "execute_result",
          "data": {
            "text/plain": [
              "22.4"
            ]
          },
          "metadata": {},
          "execution_count": 9
        }
      ]
    },
    {
      "cell_type": "code",
      "source": [
        "int(22.4)"
      ],
      "metadata": {
        "colab": {
          "base_uri": "https://localhost:8080/"
        },
        "id": "TVnWbpNjGpsj",
        "outputId": "5588e159-a7ff-4e49-a13e-eed1d1afe483"
      },
      "execution_count": 10,
      "outputs": [
        {
          "output_type": "execute_result",
          "data": {
            "text/plain": [
              "22"
            ]
          },
          "metadata": {},
          "execution_count": 10
        }
      ]
    },
    {
      "cell_type": "code",
      "source": [
        "complex(\"22\")"
      ],
      "metadata": {
        "colab": {
          "base_uri": "https://localhost:8080/"
        },
        "id": "GujgW6RlGhf7",
        "outputId": "9fe93e93-cb7f-4a10-d6ca-3ce69e2fdcb2"
      },
      "execution_count": 11,
      "outputs": [
        {
          "output_type": "execute_result",
          "data": {
            "text/plain": [
              "(22+0j)"
            ]
          },
          "metadata": {},
          "execution_count": 11
        }
      ]
    }
  ]
}