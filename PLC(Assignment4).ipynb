{
  "nbformat": 4,
  "nbformat_minor": 0,
  "metadata": {
    "colab": {
      "provenance": [],
      "collapsed_sections": []
    },
    "kernelspec": {
      "name": "python3",
      "display_name": "Python 3"
    },
    "language_info": {
      "name": "python"
    }
  },
  "cells": [
    {
      "cell_type": "markdown",
      "source": [
        "Q1. Find the largest number from the given list, use for loop.\n",
        "\n",
        "```\n",
        "numbers = [12, 75, 150, 180, 145, 525, 50]\n",
        "```"
      ],
      "metadata": {
        "id": "_aVGOkHlLiPD"
      }
    },
    {
      "cell_type": "code",
      "source": [
        "numbers = [12, 75, 150, 180, 145, 525, 50]\n",
        "l=[]\n",
        "for i in range(0,7):\n",
        "  l.append(numbers[i])\n",
        "print(\"Maximum is : \", max(l))"
      ],
      "metadata": {
        "colab": {
          "base_uri": "https://localhost:8080/"
        },
        "id": "iuOhyphRLjbA",
        "outputId": "cb6e6642-00c5-4f02-c0b3-bbe79aa30496"
      },
      "execution_count": 4,
      "outputs": [
        {
          "output_type": "stream",
          "name": "stdout",
          "text": [
            "Maximum is :  525\n"
          ]
        }
      ]
    },
    {
      "cell_type": "markdown",
      "source": [
        "Q2. Print all the even number between (1, 12)."
      ],
      "metadata": {
        "id": "6ry-7I-6Ltzc"
      }
    },
    {
      "cell_type": "code",
      "source": [
        "for i in range(1,12):\n",
        "  if i%2 ==0:\n",
        "    print(i)"
      ],
      "metadata": {
        "id": "UYpcqIUhLyFx",
        "colab": {
          "base_uri": "https://localhost:8080/"
        },
        "outputId": "2a7d7440-1344-40a7-a69d-a6eee24e4323"
      },
      "execution_count": 7,
      "outputs": [
        {
          "output_type": "stream",
          "name": "stdout",
          "text": [
            "2\n",
            "4\n",
            "6\n",
            "8\n",
            "10\n"
          ]
        }
      ]
    },
    {
      "cell_type": "markdown",
      "source": [
        "Q3. Calculate the sum of all numbers from 1 to a given number\n",
        "    \n",
        "    Expected Output:\n",
        "\n",
        "    Enter number 10\n",
        "    \n",
        "    Sum is:  55\n"
      ],
      "metadata": {
        "id": "lkZHzhCRwwjH"
      }
    },
    {
      "cell_type": "code",
      "source": [
        "sum=0\n",
        "n=int(input(\"Enter a number : \"))\n",
        "for i in range(0,n+1):\n",
        "  sum = sum+i\n",
        "print(sum)\n"
      ],
      "metadata": {
        "colab": {
          "base_uri": "https://localhost:8080/"
        },
        "id": "VsCby2euwxdT",
        "outputId": "b439d309-02f5-4893-8614-9e469e751290"
      },
      "execution_count": 9,
      "outputs": [
        {
          "output_type": "stream",
          "name": "stdout",
          "text": [
            "Enter a number : 10\n",
            "55\n"
          ]
        }
      ]
    },
    {
      "cell_type": "markdown",
      "source": [
        "Q4. Write a program to display only those numbers from a list that satisfy the following conditions\n",
        "\n",
        "- The number must be divisible by five\n",
        "\n",
        "- If the number is greater than 150, then skip it and move to the next number\n",
        "\n",
        "- If the number is greater than 500, then stop the loop"
      ],
      "metadata": {
        "id": "2ifEooDfwx2R"
      }
    },
    {
      "cell_type": "code",
      "source": [
        "# Given:\n",
        "\n",
        "numbers = [12, 75, 150, 180, 145, 525, 50]\n",
        "for i in numbers:\n",
        "  if i % 5== 0:\n",
        "    if i>150:\n",
        "      continue\n",
        "    elif i>500:\n",
        "      break\n",
        "    print(i)\n",
        "  "
      ],
      "metadata": {
        "colab": {
          "base_uri": "https://localhost:8080/"
        },
        "id": "eCQmJBaiw1UF",
        "outputId": "eb123e9f-209f-45d3-9af8-5c619c644f23"
      },
      "execution_count": 16,
      "outputs": [
        {
          "output_type": "stream",
          "name": "stdout",
          "text": [
            "75\n",
            "150\n",
            "145\n",
            "50\n"
          ]
        }
      ]
    },
    {
      "cell_type": "markdown",
      "source": [
        "Q5. Print the given list in reverse order.\n",
        "\n",
        "```\n",
        "list1 = [10, 20, 30, 40, 50]\n",
        "```"
      ],
      "metadata": {
        "id": "79EjrWDbw4Xp"
      }
    },
    {
      "cell_type": "code",
      "source": [
        "list1 = [10, 20, 30, 40, 50]\n",
        "list1.reverse()\n",
        "list1"
      ],
      "metadata": {
        "colab": {
          "base_uri": "https://localhost:8080/"
        },
        "id": "y9M0KKBqw8Dp",
        "outputId": "e68b5c8c-1aa6-4c9c-f253-3e5c71057c3e"
      },
      "execution_count": 30,
      "outputs": [
        {
          "output_type": "execute_result",
          "data": {
            "text/plain": [
              "[50, 40, 30, 20, 10]"
            ]
          },
          "metadata": {},
          "execution_count": 30
        }
      ]
    }
  ]
}