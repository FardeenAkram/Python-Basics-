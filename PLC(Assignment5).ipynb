{
  "nbformat": 4,
  "nbformat_minor": 0,
  "metadata": {
    "colab": {
      "provenance": []
    },
    "kernelspec": {
      "name": "python3",
      "display_name": "Python 3"
    },
    "language_info": {
      "name": "python"
    }
  },
  "cells": [
    {
      "cell_type": "markdown",
      "source": [
        "#### 1. On amazon website we have the following available items - \n",
        "\n",
        "```python\n",
        "amazon_website = [(\"watch\", 5000), (\"phone\", 10000), (\"laptop\", 50000), (\"shirt\", 1000)]\n",
        "```\n",
        "Take the user input N no. of times and find out the total cost to be paid?\n",
        "\n",
        "OR\n",
        "\n",
        "You can ask the user quntity or the count of item?\n",
        "\n",
        "if the item is not present in the amazon website then print that item as out of stock and do add it total\n",
        "\n",
        "\n",
        "HINT: while, for loop.. indexing"
      ],
      "metadata": {
        "id": "G9wy3kyZ35w4"
      }
    },
    {
      "cell_type": "code",
      "source": [
        "amazon_website = [(\"watch\", 5000), (\"phone\", 10000), (\"laptop\", 50000), (\"shirt\", 1000)]\n",
        "count=0\n",
        "price=0\n",
        "N= int(input(\"Enter number of product: \"))\n",
        "for i in range(0,N):\n",
        "  userinput= input(\"Enter a product: \")\n",
        "  if userinput.lower() == \"watch\" :\n",
        "    price = price + 5000\n",
        "  elif userinput.lower() == \"phone\" :\n",
        "    price = price + 10000\n",
        "  elif userinput.lower() == \"laptop\" :\n",
        "    price = price + 50000\n",
        "  elif userinput.lower() == \"shirt\" :\n",
        "    price = price + 1000\n",
        "  else:\n",
        "    print(f\"The {userinput} is Out of stock\")\n",
        "print(f\"The final price is : {price}\")"
      ],
      "metadata": {
        "colab": {
          "base_uri": "https://localhost:8080/"
        },
        "id": "BuFHpj1K36l9",
        "outputId": "0cd513dd-d759-4505-9520-4f7f75dd4fd9"
      },
      "execution_count": 33,
      "outputs": [
        {
          "output_type": "stream",
          "name": "stdout",
          "text": [
            "Enter number of product: 3\n",
            "Enter a product: eggs\n",
            "The eggs is Out of stock\n",
            "Enter a product: watch\n",
            "Enter a product: shirt\n",
            "The final price is : 6000\n"
          ]
        }
      ]
    },
    {
      "cell_type": "markdown",
      "source": [
        "#### 2. What will be the output of the following code snippet?\n",
        "\n",
        "```\n",
        "arr = [1, 2, 3, 4, 5, 6]\n",
        "for i in range(1, 6):\n",
        "    arr[i - 1] = arr[i]\n",
        "for i in range(0, 6): \n",
        "    print(arr[i], end = \" \")\n",
        "```"
      ],
      "metadata": {
        "id": "Rw2JYM3D4GFC"
      }
    },
    {
      "cell_type": "code",
      "source": [
        "arr = [1, 2, 3, 4, 5, 6]\n",
        "for i in range(1, 6):\n",
        "    arr[i - 1] = arr[i]\n",
        "for i in range(0, 6): \n",
        "    print(arr[i], end = \" \")"
      ],
      "metadata": {
        "colab": {
          "base_uri": "https://localhost:8080/"
        },
        "id": "rbrS0tJf4HCb",
        "outputId": "be4764e0-8b29-45c6-c885-8cf9e8e57c83"
      },
      "execution_count": 3,
      "outputs": [
        {
          "output_type": "stream",
          "name": "stdout",
          "text": [
            "2 3 4 5 6 6 "
          ]
        }
      ]
    },
    {
      "cell_type": "markdown",
      "source": [
        "#### 3. Write a Python program to find the repeated items of a tuple."
      ],
      "metadata": {
        "id": "OLOfI08j4HST"
      }
    },
    {
      "cell_type": "code",
      "source": [
        "tup=(3,3,4,3,1,1,1)  \n",
        "for i in tup:\n",
        "    if tup.count(i) > 1:\n",
        "        print(f'{i} is REPEATED')"
      ],
      "metadata": {
        "colab": {
          "base_uri": "https://localhost:8080/"
        },
        "id": "mpcP5MFt4KXR",
        "outputId": "20c26a83-2c10-413d-deff-860f6d088048"
      },
      "execution_count": 16,
      "outputs": [
        {
          "output_type": "stream",
          "name": "stdout",
          "text": [
            "3 is REPEATED\n",
            "3 is REPEATED\n",
            "3 is REPEATED\n",
            "1 is REPEATED\n",
            "1 is REPEATED\n",
            "1 is REPEATED\n"
          ]
        }
      ]
    },
    {
      "cell_type": "markdown",
      "source": [
        "### 4. Replace last value of tuples in a list with 500. Try using list comprehension\n",
        "\n",
        "Example -: \n",
        "```\n",
        "Input -:\n",
        "\n",
        "[(10, 20, 40), (40, 50, 60), (70, 80, 90)]\n",
        "\n",
        "Output -:\n",
        "[(10, 20, 500), (40, 50, 500), (70, 80, 500)]\n",
        "\n",
        "\n",
        "```"
      ],
      "metadata": {
        "id": "rMNXFeKU4Kl2"
      }
    },
    {
      "cell_type": "code",
      "source": [
        "l= [(10, 20, 40), (40, 50, 60), (70, 80, 90)]\n",
        "print([i[:-1] + (500,) for i in l])"
      ],
      "metadata": {
        "colab": {
          "base_uri": "https://localhost:8080/"
        },
        "id": "p42yT_gK4N2i",
        "outputId": "306219a7-e898-4041-a433-41a42d5e2846"
      },
      "execution_count": 19,
      "outputs": [
        {
          "output_type": "stream",
          "name": "stdout",
          "text": [
            "[(10, 20, 500), (40, 50, 500), (70, 80, 500)]\n"
          ]
        }
      ]
    }
  ]
}