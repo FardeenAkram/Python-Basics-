{
  "nbformat": 4,
  "nbformat_minor": 0,
  "metadata": {
    "colab": {
      "provenance": [],
      "collapsed_sections": []
    },
    "kernelspec": {
      "name": "python3",
      "display_name": "Python 3"
    },
    "language_info": {
      "name": "python"
    }
  },
  "cells": [
    {
      "cell_type": "markdown",
      "source": [
        "## Python String Manipulation"
      ],
      "metadata": {
        "id": "Tku9ogf4t50X"
      }
    },
    {
      "cell_type": "markdown",
      "source": [
        "1. Count the number of times `iNeuron` appears in the string.\n",
        "```python\n",
        "text = \"Welcome to iNeuron, You are a part of FSDS Bootcamp 2 in iNeuron. I hope you are enjoying the course by iNeuron\"\n",
        "```"
      ],
      "metadata": {
        "id": "-x4cLfjPt64i"
      }
    },
    {
      "cell_type": "code",
      "source": [
        "text = \"Welcome to iNeuron, You are a part of FSDS Bootcamp 2 in iNeuron. I hope you are enjoying the course by iNeuron\"\n",
        "count_iNeuron= text.count(\"iNeuron\")\n",
        "print(f\"The number of times iNeuron appears in the text is : {count_iNeuron}\")"
      ],
      "metadata": {
        "colab": {
          "base_uri": "https://localhost:8080/"
        },
        "id": "GEGZ_DfSt-CN",
        "outputId": "ca9327e9-5f39-4388-b046-3e4807dddc62"
      },
      "execution_count": 3,
      "outputs": [
        {
          "output_type": "stream",
          "name": "stdout",
          "text": [
            "The number of times iNeuron appears in the text is : 3\n"
          ]
        }
      ]
    },
    {
      "cell_type": "markdown",
      "source": [
        "2. Check if position `5` to `11` ends with the phrase `iNeuron.` in the string \n",
        "```python\n",
        "txt = \"Hello, welcome to FSDS 2.0 at iNeuron.\"\n",
        "```"
      ],
      "metadata": {
        "id": "gGrTmJM2uboa"
      }
    },
    {
      "cell_type": "code",
      "source": [
        "txt = \"Hello, welcome to FSDS 2.0 at iNeuron.\"\n",
        "a=txt.index(\"iNeuron\")\n",
        "b=txt[5:11]\n",
        "print(f\"The string present in index 5 to 11 is: {b}\")\n",
        "print(f\"iNeuron is present from index number : {a}\")"
      ],
      "metadata": {
        "colab": {
          "base_uri": "https://localhost:8080/"
        },
        "id": "IQw6lrwDueJu",
        "outputId": "25c92d7b-fe14-43c6-ff3e-aba2e66d29bf"
      },
      "execution_count": 11,
      "outputs": [
        {
          "output_type": "stream",
          "name": "stdout",
          "text": [
            "The string present in index 5 to 11 is: , welc\n",
            "iNeuron is present from index number : 30\n"
          ]
        }
      ]
    },
    {
      "cell_type": "markdown",
      "source": [
        "3. Write a program that takes your full name as input and displays the abbreviations of the first and middle names except the last name which is displayed as it is. For example, if your name is Sunny Bhaveen Chandra, then the output should be S.B.Chandra."
      ],
      "metadata": {
        "id": "QfXcF8Q3wB7c"
      }
    },
    {
      "cell_type": "code",
      "source": [
        "name= input(\"Enter your full name : \")\n",
        "firstname,middlename,surname= name.split(\" \")\n",
        "print(f\"\"\"\n",
        "First name : {firstname}\n",
        "Middle name : {middlename}\n",
        "Surname : {surname}\"\"\"\"\")\n",
        "print(f\"The name is {firstname[0].capitalize()}.{middlename[0].capitalize()}.{surname.capitalize()}\")"
      ],
      "metadata": {
        "colab": {
          "base_uri": "https://localhost:8080/"
        },
        "id": "3YmoZKL_wE8x",
        "outputId": "36f8e1aa-edeb-485a-80ea-0242c8eeffd5"
      },
      "execution_count": 17,
      "outputs": [
        {
          "output_type": "stream",
          "name": "stdout",
          "text": [
            "Enter your full name : sunny bhaveen chandra\n",
            "\n",
            "First name : sunny\n",
            "Middle name : bhaveen\n",
            "Surname : chandra\n",
            "The name is S.B.Chandra\n"
          ]
        }
      ]
    },
    {
      "cell_type": "markdown",
      "source": [
        "4. Join all items in a list into a string, using a hash(`#`) character as separator:\n",
        "```python\n",
        "LIST = [\"My\", \"name\", \"is\", \"Rishav\", \"Dash\"]\n",
        "```"
      ],
      "metadata": {
        "id": "3I6UhmBLx9XZ"
      }
    },
    {
      "cell_type": "code",
      "source": [
        "LIST = [\"My\", \"name\", \"is\", \"Rishav\", \"Dash\"]\n",
        "\"#\".join(LIST)"
      ],
      "metadata": {
        "colab": {
          "base_uri": "https://localhost:8080/",
          "height": 35
        },
        "id": "oQCYxHmUx-Tx",
        "outputId": "4efb96f2-306f-4863-8bd5-5df7f691b025"
      },
      "execution_count": 20,
      "outputs": [
        {
          "output_type": "execute_result",
          "data": {
            "text/plain": [
              "'My#name#is#Rishav#Dash'"
            ],
            "application/vnd.google.colaboratory.intrinsic+json": {
              "type": "string"
            }
          },
          "metadata": {},
          "execution_count": 20
        }
      ]
    },
    {
      "cell_type": "markdown",
      "source": [
        "5. Write example for the following string manipulation function,\n",
        "\n",
        "  ```\n",
        "  - isdecimal()\n",
        "  - islower()\n",
        "  - isupper()\n",
        "  - isalpha()\n",
        "  - isnumeric()\n",
        "\n",
        "  ```"
      ],
      "metadata": {
        "id": "pa761OZsyZwF"
      }
    },
    {
      "cell_type": "code",
      "source": [
        "j= \"fardeen\"\n",
        "j.isdecimal()"
      ],
      "metadata": {
        "colab": {
          "base_uri": "https://localhost:8080/"
        },
        "id": "zotMQoUlydxQ",
        "outputId": "062f129b-696d-42bd-aa41-d4100670590b"
      },
      "execution_count": 23,
      "outputs": [
        {
          "output_type": "execute_result",
          "data": {
            "text/plain": [
              "False"
            ]
          },
          "metadata": {},
          "execution_count": 23
        }
      ]
    },
    {
      "cell_type": "code",
      "source": [
        "j= \"fardeen\"\n",
        "j.islower()"
      ],
      "metadata": {
        "colab": {
          "base_uri": "https://localhost:8080/"
        },
        "id": "2dUfwQw0yr6-",
        "outputId": "83d9cc3a-c0ba-4c84-a03c-1a32508fa6e1"
      },
      "execution_count": 24,
      "outputs": [
        {
          "output_type": "execute_result",
          "data": {
            "text/plain": [
              "True"
            ]
          },
          "metadata": {},
          "execution_count": 24
        }
      ]
    },
    {
      "cell_type": "code",
      "source": [
        "j= \"fardeen\"\n",
        "j.isupper()"
      ],
      "metadata": {
        "colab": {
          "base_uri": "https://localhost:8080/"
        },
        "id": "vkmjbWGcyvCR",
        "outputId": "34b9a76a-f9a3-484f-9e94-b08c1cf61234"
      },
      "execution_count": 25,
      "outputs": [
        {
          "output_type": "execute_result",
          "data": {
            "text/plain": [
              "False"
            ]
          },
          "metadata": {},
          "execution_count": 25
        }
      ]
    },
    {
      "cell_type": "code",
      "source": [
        "j= \"fardeen\"\n",
        "j.isalpha()"
      ],
      "metadata": {
        "colab": {
          "base_uri": "https://localhost:8080/"
        },
        "id": "f0BJ8x_NyyK6",
        "outputId": "c87dcd87-9fff-4ca8-f22c-3c698ed0b60b"
      },
      "execution_count": 26,
      "outputs": [
        {
          "output_type": "execute_result",
          "data": {
            "text/plain": [
              "True"
            ]
          },
          "metadata": {},
          "execution_count": 26
        }
      ]
    },
    {
      "cell_type": "code",
      "source": [
        "j= \"00987\"\n",
        "j.isnumeric()"
      ],
      "metadata": {
        "colab": {
          "base_uri": "https://localhost:8080/"
        },
        "id": "4myxhSvhy0h1",
        "outputId": "e0e64e4e-054f-4f39-df14-a0c5d53be687"
      },
      "execution_count": 27,
      "outputs": [
        {
          "output_type": "execute_result",
          "data": {
            "text/plain": [
              "True"
            ]
          },
          "metadata": {},
          "execution_count": 27
        }
      ]
    },
    {
      "cell_type": "markdown",
      "source": [
        "6. Indian PAN card format follows the following formats - \n",
        "    - `AYEPC7894X`\n",
        "    - `ABCDE9999Y`\n",
        "  Take user input for PAN_CARD and validate as per the above example"
      ],
      "metadata": {
        "id": "5ZN4gQiEy6Wc"
      }
    },
    {
      "cell_type": "code",
      "source": [
        "panno = input(\"Enter your pan number(must be alpha-numeric): \")\n",
        "if len(panno) == 10 and type(panno[0:4]) == str and type(int(panno[5:9])) == int and type(panno[-1]) == str:\n",
        "  print(f\"You have entered the correct pan number and your pan number is : {panno} \")\n",
        "else:\n",
        "  print(f\"You have not entered the correct pan number and you need to enter the correct pan number again.\")"
      ],
      "metadata": {
        "colab": {
          "base_uri": "https://localhost:8080/"
        },
        "id": "EXVjB8vxy80q",
        "outputId": "71aaed45-8b8f-4f7d-dc12-9e3c98bf55d9"
      },
      "execution_count": 38,
      "outputs": [
        {
          "output_type": "stream",
          "name": "stdout",
          "text": [
            "Enter your pan number(must be alpha-numeric): AYEPC7894X\n",
            "You have entered the correct pan number and your pan number is : AYEPC7894X \n"
          ]
        }
      ]
    }
  ]
}